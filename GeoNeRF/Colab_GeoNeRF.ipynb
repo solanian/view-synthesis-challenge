{
  "cells": [
    {
      "cell_type": "code",
      "execution_count": null,
      "metadata": {
        "colab": {
          "base_uri": "https://localhost:8080/"
        },
        "id": "pCREEravXbuf",
        "outputId": "3932fe0f-604c-4e30-d497-cb755039d9b5"
      },
      "outputs": [],
      "source": [
        "from google.colab import drive\n",
        "drive.mount('/content/drive')"
      ]
    },
    {
      "cell_type": "code",
      "execution_count": 2,
      "metadata": {
        "id": "HgRIr47NxWNi"
      },
      "outputs": [],
      "source": [
        "#**Add python version you wish** to list\n",
        "!sudo apt-get update -y\n",
        "!sudo apt-get install python3.8\n",
        "from IPython.display import clear_output\n",
        "clear_output()\n",
        "!sudo update-alternatives --install /usr/bin/python3 python3 /usr/bin/python3.8 1"
      ]
    },
    {
      "cell_type": "code",
      "execution_count": null,
      "metadata": {
        "colab": {
          "base_uri": "https://localhost:8080/"
        },
        "id": "EBr0kWNMoan-",
        "outputId": "4d6364de-a856-4bcf-fa6f-f9a43ab017b1"
      },
      "outputs": [],
      "source": [
        "!sudo apt-get -y install cuda-11.1\n",
        "#!sudo update-alternatives --config cuda"
      ]
    },
    {
      "cell_type": "code",
      "execution_count": null,
      "metadata": {
        "colab": {
          "base_uri": "https://localhost:8080/"
        },
        "id": "S7h5YjSN_HW2",
        "outputId": "2a7d3448-97b4-4b60-aa15-dfaf649ea52b"
      },
      "outputs": [],
      "source": [
        "# Choose one of the given alternatives:\n",
        "!sudo update-alternatives --config python3\n",
        "!sudo update-alternatives --config cuda\n",
        "\n",
        "# Check the result\n",
        "!python3 --version\n",
        "!nvcc --version"
      ]
    },
    {
      "cell_type": "code",
      "execution_count": null,
      "metadata": {
        "id": "tIEFcyxGZrBl"
      },
      "outputs": [],
      "source": [
        "# Check the result\n",
        "!python3 --version\n",
        "!nvcc --version"
      ]
    },
    {
      "cell_type": "code",
      "execution_count": null,
      "metadata": {
        "colab": {
          "base_uri": "https://localhost:8080/",
          "height": 1000
        },
        "id": "iqADuVZFeimw",
        "outputId": "8320df83-be39-4e0d-a176-dd1e82b1e640"
      },
      "outputs": [],
      "source": [
        "!sudo apt-get install python3-pip\n",
        "!pip --version\n",
        "!pip3 install torch==1.9.1+cu111 torchvision==0.10.1+cu111 -f https://download.pytorch.org/whl/torch_stable.html\n",
        "!pip3 install torchaudio==0.9.1\n",
        "!pip3 install torchmetrics==0.7\n",
        "!pip3 install test-tube\n",
        "!pip3 install -r /content/drive/MyDrive/dev/GeoNeRF_dir/requirements.txt"
      ]
    },
    {
      "cell_type": "code",
      "execution_count": null,
      "metadata": {
        "colab": {
          "base_uri": "https://localhost:8080/"
        },
        "id": "nD9-iJSPaumZ",
        "outputId": "156fc0d7-09ac-439b-8780-2a45ae614b0e"
      },
      "outputs": [],
      "source": [
        "!mkdir /git\n",
        "!cp -r /content/drive/MyDrive/dev/GeoNeRF_dir /git/"
      ]
    },
    {
      "cell_type": "code",
      "execution_count": null,
      "metadata": {
        "colab": {
          "base_uri": "https://localhost:8080/"
        },
        "id": "f7ayoTPUZwfs",
        "outputId": "729750a8-e04f-4e51-e32f-5c6b8ba0c184"
      },
      "outputs": [],
      "source": [
        "%cd /content/drive/MyDrive/dev/GeoNeRF_dir\n",
        "!python run_geo_nerf.py --config configs/config_face.txt --eval"
      ]
    },
    {
      "cell_type": "code",
      "execution_count": null,
      "metadata": {
        "colab": {
          "base_uri": "https://localhost:8080/"
        },
        "id": "sI7-FhghLG_a",
        "outputId": "3844d1c1-3e83-415b-cf5c-955f32339cfd"
      },
      "outputs": [
        {
          "name": "stdout",
          "output_type": "stream",
          "text": [
            "/content/drive/MyDrive/dev/GeoNeRF_dir\n",
            "/content/drive/MyDrive/dev/GeoNeRF_dir\n",
            "/usr/local/lib/python3.8/dist-packages/pytorch_lightning/metrics/__init__.py:43: LightningDeprecationWarning: `pytorch_lightning.metrics.*` module has been renamed to `torchmetrics.*` and split off to its own package (https://github.com/PyTorchLightning/metrics) since v1.3 and will be removed in v1.5\n",
            "  rank_zero_deprecation(\n",
            "Setting up [LPIPS] perceptual loss: trunk [vgg], v[0.1], spatial [off]\n",
            "Loading model from: /usr/local/lib/python3.8/dist-packages/lpips/weights/v0.1/vgg.pth\n",
            "/usr/local/lib/python3.8/dist-packages/pytorch_lightning/callbacks/model_checkpoint.py:360: UserWarning: Checkpoint directory ./logs/llff/face_test/ckpts exists and is not empty.\n",
            "  rank_zero_warn(f\"Checkpoint directory {dirpath} exists and is not empty.\")\n",
            "GPU available: True, used: True\n",
            "TPU available: False, using: 0 TPU cores\n",
            "Using native 16bit precision.\n",
            "LOCAL_RANK: 0 - CUDA_VISIBLE_DEVICES: [0]\n",
            "\n",
            "  | Name         | Type      | Params\n",
            "-------------------------------------------\n",
            "0 | depth_loss   | SL1Loss   | 0     \n",
            "1 | geo_reasoner | CasMVSNet | 937 K \n",
            "2 | renderer     | Renderer  | 265 K \n",
            "-------------------------------------------\n",
            "1.2 M     Trainable params\n",
            "0         Non-trainable params\n",
            "1.2 M     Total params\n",
            "4.814     Total estimated model params size (MB)\n",
            "Restored states from the checkpoint file at ./logs/llff/face_test/ckpts/ckpt_step-001899.ckpt\n",
            "/usr/local/lib/python3.8/dist-packages/pytorch_lightning/trainer/data_loading.py:102: UserWarning: The dataloader, val dataloader 0, does not have many workers which may be a bottleneck. Consider increasing the value of the `num_workers` argument` (try 12 which is the number of cpus on this machine) in the `DataLoader` init to improve performance.\n",
            "  rank_zero_warn(\n",
            "Epoch 100:   0% 0/19 [00:00<?, ?it/s]/content/drive/MyDrive/dev/GeoNeRF_dir/model/geo_reasoner.py:401: UserWarning: To copy construct from a tensor, it is recommended to use sourceTensor.clone().detach() or sourceTensor.clone().detach().requires_grad_(True), rather than torch.tensor(sourceTensor).\n",
            "  permuted_idx = torch.tensor(closest_idxs[0, i]).cuda()\n",
            "Epoch 135:  26% 5/19 [00:35<01:39,  7.14s/it, v_num=18, train/loss=nan.0]"
          ]
        }
      ],
      "source": [
        "%cd /content/drive/MyDrive/dev/GeoNeRF_dir\n",
        "!python run_geo_nerf.py --config configs/config_face.txt"
      ]
    },
    {
      "cell_type": "code",
      "execution_count": null,
      "metadata": {
        "colab": {
          "base_uri": "https://localhost:8080/"
        },
        "id": "4KZSe1966QZK",
        "outputId": "32b7737d-c9c3-4f79-eb64-bcfa6f6d586f"
      },
      "outputs": [
        {
          "name": "stdout",
          "output_type": "stream",
          "text": [
            "/content/drive/MyDrive/dev/GeoNeRF_dir\n",
            "/content/drive/MyDrive/dev/GeoNeRF_dir\n",
            "/usr/local/lib/python3.8/dist-packages/pytorch_lightning/metrics/__init__.py:43: LightningDeprecationWarning: `pytorch_lightning.metrics.*` module has been renamed to `torchmetrics.*` and split off to its own package (https://github.com/PyTorchLightning/metrics) since v1.3 and will be removed in v1.5\n",
            "  rank_zero_deprecation(\n",
            "Setting up [LPIPS] perceptual loss: trunk [vgg], v[0.1], spatial [off]\n",
            "Loading model from: /usr/local/lib/python3.8/dist-packages/lpips/weights/v0.1/vgg.pth\n",
            "/usr/local/lib/python3.8/dist-packages/pytorch_lightning/callbacks/model_checkpoint.py:360: UserWarning: Checkpoint directory ./logs/llff/face_test/ckpts exists and is not empty.\n",
            "  rank_zero_warn(f\"Checkpoint directory {dirpath} exists and is not empty.\")\n",
            "GPU available: True, used: True\n",
            "TPU available: False, using: 0 TPU cores\n",
            "Using native 16bit precision.\n",
            "LOCAL_RANK: 0 - CUDA_VISIBLE_DEVICES: [0]\n",
            "\n",
            "  | Name         | Type      | Params\n",
            "-------------------------------------------\n",
            "0 | depth_loss   | SL1Loss   | 0     \n",
            "1 | geo_reasoner | CasMVSNet | 937 K \n",
            "2 | renderer     | Renderer  | 265 K \n",
            "-------------------------------------------\n",
            "1.2 M     Trainable params\n",
            "0         Non-trainable params\n",
            "1.2 M     Total params\n",
            "4.814     Total estimated model params size (MB)\n",
            "Restored states from the checkpoint file at ./logs/llff/face_test/ckpts/ckpt_step-000227.ckpt\n",
            "/usr/local/lib/python3.8/dist-packages/pytorch_lightning/trainer/data_loading.py:102: UserWarning: The dataloader, val dataloader 0, does not have many workers which may be a bottleneck. Consider increasing the value of the `num_workers` argument` (try 12 which is the number of cpus on this machine) in the `DataLoader` init to improve performance.\n",
            "  rank_zero_warn(\n",
            "Epoch 12:   0% 0/19 [00:00<?, ?it/s]/content/drive/MyDrive/dev/GeoNeRF_dir/model/geo_reasoner.py:401: UserWarning: To copy construct from a tensor, it is recommended to use sourceTensor.clone().detach() or sourceTensor.clone().detach().requires_grad_(True), rather than torch.tensor(sourceTensor).\n",
            "  permuted_idx = torch.tensor(closest_idxs[0, i]).cuda()\n",
            "Epoch 49:  86% 19/22 [01:21<00:12,  4.28s/it, v_num=15, train/loss=0.00665]\n",
            "Validating: 0it [00:00, ?it/s]\u001b[A\n",
            "Validating:   0% 0/3 [00:00<?, ?it/s]\u001b[A/usr/local/lib/python3.8/dist-packages/torch/utils/checkpoint.py:25: UserWarning: None of the inputs have requires_grad=True. Gradients will be None\n",
            "  warnings.warn(\"None of the inputs have requires_grad=True. Gradients will be None\")\n",
            "@@@@@\n",
            "(720, 960, 3)\n",
            "(720, 960, 3)\n",
            "@@@@@\n",
            "Image 00 rendered.\n",
            "\n",
            "Epoch 49:  95% 21/22 [02:45<00:07,  7.87s/it, v_num=15, train/loss=0.00665]@@@@@\n",
            "(720, 960, 3)\n",
            "(720, 960, 3)\n",
            "@@@@@\n",
            "Image 01 rendered.\n",
            "\n",
            "Epoch 49: 100% 22/22 [04:07<00:00, 11.25s/it, v_num=15, train/loss=0.00665]@@@@@\n",
            "(720, 960, 3)\n",
            "(720, 960, 3)\n",
            "@@@@@\n",
            "Image 02 rendered.\n",
            "\n",
            "Epoch 49: 100% 22/22 [05:28<00:00, 14.94s/it, v_num=15, train/loss=0.00653]\n",
            "Epoch 99:  86% 19/22 [01:21<00:12,  4.31s/it, v_num=15, train/loss=0.00382]\n",
            "Validating: 0it [00:00, ?it/s]\u001b[A\n",
            "Validating:   0% 0/3 [00:00<?, ?it/s]\u001b[A@@@@@\n",
            "(720, 960, 3)\n",
            "(720, 960, 3)\n",
            "@@@@@\n",
            "Image 03 rendered.\n",
            "\n",
            "Epoch 99:  95% 21/22 [02:44<00:07,  7.83s/it, v_num=15, train/loss=0.00382]@@@@@\n",
            "(720, 960, 3)\n",
            "(720, 960, 3)\n",
            "@@@@@\n",
            "Image 04 rendered.\n",
            "\n",
            "Epoch 99: 100% 22/22 [04:05<00:00, 11.16s/it, v_num=15, train/loss=0.00382]@@@@@\n",
            "(720, 960, 3)\n",
            "(720, 960, 3)\n",
            "@@@@@\n",
            "Image 05 rendered.\n",
            "\n",
            "Epoch 99: 100% 22/22 [05:26<00:00, 14.85s/it, v_num=15, train/loss=0.0105] \n",
            "Epoch 125:   0% 0/19 [00:00<?, ?it/s, v_num=15, train/loss=0.0075]Traceback (most recent call last):\n",
            "  File \"run_geo_nerf.py\", line 616, in <module>\n",
            "    trainer.fit(geonerf)\n",
            "  File \"/usr/local/lib/python3.8/dist-packages/pytorch_lightning/trainer/trainer.py\", line 458, in fit\n",
            "    self._run(model)\n",
            "  File \"/usr/local/lib/python3.8/dist-packages/pytorch_lightning/trainer/trainer.py\", line 756, in _run\n",
            "    self.dispatch()\n",
            "  File \"/usr/local/lib/python3.8/dist-packages/pytorch_lightning/trainer/trainer.py\", line 797, in dispatch\n",
            "    self.accelerator.start_training(self)\n",
            "  File \"/usr/local/lib/python3.8/dist-packages/pytorch_lightning/accelerators/accelerator.py\", line 96, in start_training\n",
            "    self.training_type_plugin.start_training(trainer)\n",
            "  File \"/usr/local/lib/python3.8/dist-packages/pytorch_lightning/plugins/training_type/training_type_plugin.py\", line 144, in start_training\n",
            "    self._results = trainer.run_stage()\n",
            "  File \"/usr/local/lib/python3.8/dist-packages/pytorch_lightning/trainer/trainer.py\", line 807, in run_stage\n",
            "    return self.run_train()\n",
            "  File \"/usr/local/lib/python3.8/dist-packages/pytorch_lightning/trainer/trainer.py\", line 869, in run_train\n",
            "    self.train_loop.run_training_epoch()\n",
            "  File \"/usr/local/lib/python3.8/dist-packages/pytorch_lightning/trainer/training_loop.py\", line 491, in run_training_epoch\n",
            "    for batch_idx, (batch, is_last_batch) in train_dataloader:\n",
            "  File \"/usr/local/lib/python3.8/dist-packages/pytorch_lightning/profiler/profilers.py\", line 112, in profile_iterable\n",
            "    value = next(iterator)\n",
            "  File \"/usr/local/lib/python3.8/dist-packages/pytorch_lightning/trainer/supporters.py\", line 530, in prefetch_iterator\n",
            "    last = next(it)\n",
            "  File \"/usr/local/lib/python3.8/dist-packages/pytorch_lightning/trainer/supporters.py\", line 464, in __next__\n",
            "    return self.request_next_batch(self.loader_iters)\n",
            "  File \"/usr/local/lib/python3.8/dist-packages/pytorch_lightning/trainer/supporters.py\", line 478, in request_next_batch\n",
            "    return apply_to_collection(loader_iters, Iterator, next)\n",
            "  File \"/usr/local/lib/python3.8/dist-packages/pytorch_lightning/utilities/apply_func.py\", line 85, in apply_to_collection\n",
            "    return function(data, *args, **kwargs)\n",
            "  File \"/usr/local/lib/python3.8/dist-packages/torch/utils/data/dataloader.py\", line 521, in __next__\n",
            "    data = self._next_data()\n",
            "  File \"/usr/local/lib/python3.8/dist-packages/torch/utils/data/dataloader.py\", line 1203, in _next_data\n",
            "    return self._process_data(data)\n",
            "  File \"/usr/local/lib/python3.8/dist-packages/torch/utils/data/dataloader.py\", line 1229, in _process_data\n",
            "    data.reraise()\n",
            "  File \"/usr/local/lib/python3.8/dist-packages/torch/_utils.py\", line 425, in reraise\n",
            "    raise self.exc_type(msg)\n",
            "OSError: Caught OSError in DataLoader worker process 0.\n",
            "Original Traceback (most recent call last):\n",
            "  File \"/usr/local/lib/python3.8/dist-packages/torch/utils/data/_utils/worker.py\", line 287, in _worker_loop\n",
            "    data = fetcher.fetch(index)\n",
            "  File \"/usr/local/lib/python3.8/dist-packages/torch/utils/data/_utils/fetch.py\", line 44, in fetch\n",
            "    data = [self.dataset[idx] for idx in possibly_batched_index]\n",
            "  File \"/usr/local/lib/python3.8/dist-packages/torch/utils/data/_utils/fetch.py\", line 44, in <listcomp>\n",
            "    data = [self.dataset[idx] for idx in possibly_batched_index]\n",
            "  File \"/content/drive/MyDrive/dev/GeoNeRF_dir/data/llff.py\", line 275, in __getitem__\n",
            "    img = Image.open(img_filename).convert(\"RGB\")\n",
            "  File \"/usr/local/lib/python3.8/dist-packages/PIL/Image.py\", line 3236, in open\n",
            "    fp = builtins.open(filename, \"rb\")\n",
            "OSError: [Errno 107] Transport endpoint is not connected: 'input_data/devPhase_01/004_00/images_4/004_00_12.jpg'\n",
            "\n",
            "Error in sys.excepthook:\n",
            "Traceback (most recent call last):\n",
            "  File \"/usr/lib/python3/dist-packages/apport_python_hook.py\", line 76, in apport_excepthook\n",
            "    binary = os.path.realpath(os.path.join(os.getcwd(), sys.argv[0]))\n",
            "OSError: [Errno 107] Transport endpoint is not connected\n",
            "\n",
            "Original exception was:\n",
            "Traceback (most recent call last):\n",
            "  File \"run_geo_nerf.py\", line 616, in <module>\n",
            "    trainer.fit(geonerf)\n",
            "  File \"/usr/local/lib/python3.8/dist-packages/pytorch_lightning/trainer/trainer.py\", line 458, in fit\n",
            "    self._run(model)\n",
            "  File \"/usr/local/lib/python3.8/dist-packages/pytorch_lightning/trainer/trainer.py\", line 756, in _run\n",
            "    self.dispatch()\n",
            "  File \"/usr/local/lib/python3.8/dist-packages/pytorch_lightning/trainer/trainer.py\", line 797, in dispatch\n",
            "    self.accelerator.start_training(self)\n",
            "  File \"/usr/local/lib/python3.8/dist-packages/pytorch_lightning/accelerators/accelerator.py\", line 96, in start_training\n",
            "    self.training_type_plugin.start_training(trainer)\n",
            "  File \"/usr/local/lib/python3.8/dist-packages/pytorch_lightning/plugins/training_type/training_type_plugin.py\", line 144, in start_training\n",
            "    self._results = trainer.run_stage()\n",
            "  File \"/usr/local/lib/python3.8/dist-packages/pytorch_lightning/trainer/trainer.py\", line 807, in run_stage\n",
            "    return self.run_train()\n",
            "  File \"/usr/local/lib/python3.8/dist-packages/pytorch_lightning/trainer/trainer.py\", line 869, in run_train\n",
            "    self.train_loop.run_training_epoch()\n",
            "  File \"/usr/local/lib/python3.8/dist-packages/pytorch_lightning/trainer/training_loop.py\", line 491, in run_training_epoch\n",
            "    for batch_idx, (batch, is_last_batch) in train_dataloader:\n",
            "  File \"/usr/local/lib/python3.8/dist-packages/pytorch_lightning/profiler/profilers.py\", line 112, in profile_iterable\n",
            "    value = next(iterator)\n",
            "  File \"/usr/local/lib/python3.8/dist-packages/pytorch_lightning/trainer/supporters.py\", line 530, in prefetch_iterator\n",
            "    last = next(it)\n",
            "  File \"/usr/local/lib/python3.8/dist-packages/pytorch_lightning/trainer/supporters.py\", line 464, in __next__\n",
            "    return self.request_next_batch(self.loader_iters)\n",
            "  File \"/usr/local/lib/python3.8/dist-packages/pytorch_lightning/trainer/supporters.py\", line 478, in request_next_batch\n",
            "    return apply_to_collection(loader_iters, Iterator, next)\n",
            "  File \"/usr/local/lib/python3.8/dist-packages/pytorch_lightning/utilities/apply_func.py\", line 85, in apply_to_collection\n",
            "    return function(data, *args, **kwargs)\n",
            "  File \"/usr/local/lib/python3.8/dist-packages/torch/utils/data/dataloader.py\", line 521, in __next__\n",
            "    data = self._next_data()\n",
            "  File \"/usr/local/lib/python3.8/dist-packages/torch/utils/data/dataloader.py\", line 1203, in _next_data\n",
            "    return self._process_data(data)\n",
            "  File \"/usr/local/lib/python3.8/dist-packages/torch/utils/data/dataloader.py\", line 1229, in _process_data\n",
            "    data.reraise()\n",
            "  File \"/usr/local/lib/python3.8/dist-packages/torch/_utils.py\", line 425, in reraise\n",
            "    raise self.exc_type(msg)\n",
            "OSError: Caught OSError in DataLoader worker process 0.\n",
            "Original Traceback (most recent call last):\n",
            "  File \"/usr/local/lib/python3.8/dist-packages/torch/utils/data/_utils/worker.py\", line 287, in _worker_loop\n",
            "    data = fetcher.fetch(index)\n",
            "  File \"/usr/local/lib/python3.8/dist-packages/torch/utils/data/_utils/fetch.py\", line 44, in fetch\n",
            "    data = [self.dataset[idx] for idx in possibly_batched_index]\n",
            "  File \"/usr/local/lib/python3.8/dist-packages/torch/utils/data/_utils/fetch.py\", line 44, in <listcomp>\n",
            "    data = [self.dataset[idx] for idx in possibly_batched_index]\n",
            "  File \"/content/drive/MyDrive/dev/GeoNeRF_dir/data/llff.py\", line 275, in __getitem__\n",
            "    img = Image.open(img_filename).convert(\"RGB\")\n",
            "  File \"/usr/local/lib/python3.8/dist-packages/PIL/Image.py\", line 3236, in open\n",
            "    fp = builtins.open(filename, \"rb\")\n",
            "OSError: [Errno 107] Transport endpoint is not connected: 'input_data/devPhase_01/004_00/images_4/004_00_12.jpg'\n",
            "\n",
            "Epoch 125:   0%|          | 0/19 [00:01<?, ?it/s, v_num=15, train/loss=0.0075]\n"
          ]
        }
      ],
      "source": [
        "%cd /content/drive/MyDrive/dev/GeoNeRF_dir\n",
        "!python run_geo_nerf.py --config configs/config_face.txt"
      ]
    },
    {
      "cell_type": "code",
      "execution_count": null,
      "metadata": {
        "colab": {
          "base_uri": "https://localhost:8080/"
        },
        "id": "Q7tLjYVmYBLs",
        "outputId": "49c24b4b-6936-43aa-86cf-44f78fccfd7b"
      },
      "outputs": [
        {
          "name": "stdout",
          "output_type": "stream",
          "text": [
            "/content/drive/MyDrive/dev/GeoNeRF_dir/input_data/devPhase_01/004_00\n",
            "/content/drive/MyDrive/dev/GeoNeRF_dir/input_data/devPhase_01/004_00/images_2\n",
            "004_00_00.jpg  004_00_06.jpg  004_00_11.jpg  004_00_17.jpg  004_00_22.jpg\n",
            "004_00_01.jpg  004_00_07.jpg  004_00_12.jpg  004_00_18.jpg  004_00_23.jpg\n",
            "004_00_02.jpg  004_00_08.jpg  004_00_13.jpg  004_00_19.jpg\n",
            "004_00_04.jpg  004_00_09.jpg  004_00_14.jpg  004_00_20.jpg\n",
            "004_00_05.jpg  004_00_10.jpg  004_00_16.jpg  004_00_21.jpg\n",
            "/content/drive/MyDrive/dev/GeoNeRF_dir/input_data/devPhase_01/004_00\n"
          ]
        }
      ],
      "source": [
        "# %cd /content/drive/MyDrive/dev/GeoNeRF_dir/input_data/devPhase_01/004_00\n",
        "# # !cp -r images images_2\n",
        "# %cd images_2\n",
        "# !ls\n",
        "# # !ls | xargs -P 8 -I {} mogrify -resize 50% {}\n",
        "# %cd ..\n",
        "\n",
        "# # # !cp -r images images_4\n",
        "# # !cd images_4\n",
        "# # !ls | xargs -P 8 -I {} mogrify -resize 25% {}\n",
        "# # !cd ..\n",
        "\n",
        "# # # !cp -r images images_8\n",
        "# # !cd images_8\n",
        "# # !ls | xargs -P 8 -I {} mogrify -resize 12.5% {}\n",
        "# # !cd .."
      ]
    },
    {
      "cell_type": "code",
      "execution_count": 9,
      "metadata": {
        "colab": {
          "base_uri": "https://localhost:8080/"
        },
        "id": "m90ZkYs5Rzsn",
        "outputId": "da3b25b6-e30e-4e67-c61e-253d05b0b8ea"
      },
      "outputs": [
        {
          "name": "stdout",
          "output_type": "stream",
          "text": [
            "\u001b[0m\u001b[01;34mconfigs\u001b[0m/  \u001b[01;34minput_data\u001b[0m/  \u001b[01;34mlogs\u001b[0m/   \u001b[01;34mpretrained_weights\u001b[0m/  requirements.txt  \u001b[01;34mutils\u001b[0m/\n",
            "\u001b[01;34mdata\u001b[0m/     LICENSE      \u001b[01;34mmodel\u001b[0m/  README.md            run_geo_nerf.py\n"
          ]
        }
      ],
      "source": [
        "ls"
      ]
    },
    {
      "cell_type": "code",
      "execution_count": 10,
      "metadata": {
        "colab": {
          "base_uri": "https://localhost:8080/"
        },
        "id": "jhsIGyuucAkP",
        "outputId": "c925c1d7-1620-440a-e26e-544ecdcd57b3"
      },
      "outputs": [
        {
          "name": "stdout",
          "output_type": "stream",
          "text": [
            "3.10.12 (main, Jun  7 2023, 12:45:35) [GCC 9.4.0]\n",
            "Python 3.8.10\n"
          ]
        }
      ],
      "source": [
        "import sys\n",
        "print(sys.version)\n",
        "!python3 --version"
      ]
    }
  ],
  "metadata": {
    "accelerator": "GPU",
    "colab": {
      "gpuType": "A100",
      "machine_shape": "hm",
      "provenance": []
    },
    "kernelspec": {
      "display_name": "Python 3",
      "name": "python3"
    },
    "language_info": {
      "name": "python"
    }
  },
  "nbformat": 4,
  "nbformat_minor": 0
}
