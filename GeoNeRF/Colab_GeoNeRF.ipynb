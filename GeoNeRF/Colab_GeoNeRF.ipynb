{
  "cells": [
    {
      "cell_type": "code",
      "execution_count": null,
      "metadata": {
        "colab": {
          "base_uri": "https://localhost:8080/"
        },
        "id": "pCREEravXbuf",
        "outputId": "3932fe0f-604c-4e30-d497-cb755039d9b5"
      },
      "outputs": [],
      "source": [
        "from google.colab import drive\n",
        "drive.mount('/content/drive')"
      ]
    },
    {
      "cell_type": "code",
      "execution_count": 2,
      "metadata": {
        "id": "HgRIr47NxWNi"
      },
      "outputs": [],
      "source": [
        "#**Add python version you wish** to list\n",
        "!sudo apt-get update -y\n",
        "!sudo apt-get install python3.8\n",
        "from IPython.display import clear_output\n",
        "clear_output()\n",
        "!sudo update-alternatives --install /usr/bin/python3 python3 /usr/bin/python3.8 1"
      ]
    },
    {
      "cell_type": "code",
      "execution_count": null,
      "metadata": {
        "colab": {
          "base_uri": "https://localhost:8080/"
        },
        "id": "EBr0kWNMoan-",
        "outputId": "4d6364de-a856-4bcf-fa6f-f9a43ab017b1"
      },
      "outputs": [],
      "source": [
        "!sudo apt-get -y install cuda-11.1\n",
        "#!sudo update-alternatives --config cuda"
      ]
    },
    {
      "cell_type": "code",
      "execution_count": null,
      "metadata": {
        "colab": {
          "base_uri": "https://localhost:8080/"
        },
        "id": "S7h5YjSN_HW2",
        "outputId": "2a7d3448-97b4-4b60-aa15-dfaf649ea52b"
      },
      "outputs": [],
      "source": [
        "# Choose one of the given alternatives:\n",
        "!sudo update-alternatives --config python3\n",
        "!sudo update-alternatives --config cuda\n",
        "\n",
        "# Check the result\n",
        "!python3 --version\n",
        "!nvcc --version"
      ]
    },
    {
      "cell_type": "code",
      "execution_count": null,
      "metadata": {
        "id": "tIEFcyxGZrBl"
      },
      "outputs": [],
      "source": [
        "# Check the result\n",
        "!python3 --version\n",
        "!nvcc --version"
      ]
    },
    {
      "cell_type": "code",
      "execution_count": null,
      "metadata": {
        "colab": {
          "base_uri": "https://localhost:8080/",
          "height": 1000
        },
        "id": "iqADuVZFeimw",
        "outputId": "8320df83-be39-4e0d-a176-dd1e82b1e640"
      },
      "outputs": [],
      "source": [
        "!sudo apt-get install python3-pip\n",
        "!pip --version\n",
        "!pip3 install torch==1.9.1+cu111 torchvision==0.10.1+cu111 -f https://download.pytorch.org/whl/torch_stable.html\n",
        "!pip3 install torchaudio==0.9.1\n",
        "!pip3 install torchmetrics==0.7\n",
        "!pip3 install test-tube\n",
        "!pip3 install -r /content/drive/MyDrive/dev/GeoNeRF_dir/requirements.txt"
      ]
    },
    {
      "cell_type": "code",
      "execution_count": null,
      "metadata": {
        "colab": {
          "base_uri": "https://localhost:8080/"
        },
        "id": "nD9-iJSPaumZ",
        "outputId": "156fc0d7-09ac-439b-8780-2a45ae614b0e"
      },
      "outputs": [],
      "source": [
        "!mkdir /git\n",
        "!cp -r /content/drive/MyDrive/dev/GeoNeRF_dir /git/"
      ]
    },
    {
      "cell_type": "code",
      "execution_count": null,
      "metadata": {
        "colab": {
          "base_uri": "https://localhost:8080/"
        },
        "id": "f7ayoTPUZwfs",
        "outputId": "729750a8-e04f-4e51-e32f-5c6b8ba0c184"
      },
      "outputs": [],
      "source": [
        "%cd /content/drive/MyDrive/dev/GeoNeRF_dir\n",
        "!python run_geo_nerf.py --config configs/config_face.txt --eval"
      ]
    },
    {
      "cell_type": "code",
      "execution_count": null,
      "metadata": {
        "colab": {
          "base_uri": "https://localhost:8080/"
        },
        "id": "sI7-FhghLG_a",
        "outputId": "3844d1c1-3e83-415b-cf5c-955f32339cfd"
      },
      "outputs": [],
      "source": [
        "%cd /content/drive/MyDrive/dev/GeoNeRF_dir\n",
        "!python run_geo_nerf.py --config configs/config_face.txt"
      ]
    },
    {
      "cell_type": "code",
      "execution_count": null,
      "metadata": {
        "colab": {
          "base_uri": "https://localhost:8080/"
        },
        "id": "4KZSe1966QZK",
        "outputId": "32b7737d-c9c3-4f79-eb64-bcfa6f6d586f"
      },
      "outputs": [],
      "source": [
        "%cd /content/drive/MyDrive/dev/GeoNeRF_dir\n",
        "!python run_geo_nerf.py --config configs/config_face.txt"
      ]
    },
    {
      "cell_type": "code",
      "execution_count": null,
      "metadata": {
        "colab": {
          "base_uri": "https://localhost:8080/"
        },
        "id": "Q7tLjYVmYBLs",
        "outputId": "49c24b4b-6936-43aa-86cf-44f78fccfd7b"
      },
      "outputs": [],
      "source": [
        "# %cd /content/drive/MyDrive/dev/GeoNeRF_dir/input_data/devPhase_01/004_00\n",
        "# # !cp -r images images_2\n",
        "# %cd images_2\n",
        "# !ls\n",
        "# # !ls | xargs -P 8 -I {} mogrify -resize 50% {}\n",
        "# %cd ..\n",
        "\n",
        "# # # !cp -r images images_4\n",
        "# # !cd images_4\n",
        "# # !ls | xargs -P 8 -I {} mogrify -resize 25% {}\n",
        "# # !cd ..\n",
        "\n",
        "# # # !cp -r images images_8\n",
        "# # !cd images_8\n",
        "# # !ls | xargs -P 8 -I {} mogrify -resize 12.5% {}\n",
        "# # !cd .."
      ]
    },
    {
      "cell_type": "code",
      "execution_count": null,
      "metadata": {
        "colab": {
          "base_uri": "https://localhost:8080/"
        },
        "id": "m90ZkYs5Rzsn",
        "outputId": "da3b25b6-e30e-4e67-c61e-253d05b0b8ea"
      },
      "outputs": [],
      "source": [
        "ls"
      ]
    },
    {
      "cell_type": "code",
      "execution_count": null,
      "metadata": {
        "colab": {
          "base_uri": "https://localhost:8080/"
        },
        "id": "jhsIGyuucAkP",
        "outputId": "c925c1d7-1620-440a-e26e-544ecdcd57b3"
      },
      "outputs": [],
      "source": [
        "import sys\n",
        "print(sys.version)\n",
        "!python3 --version"
      ]
    }
  ],
  "metadata": {
    "accelerator": "GPU",
    "colab": {
      "gpuType": "A100",
      "machine_shape": "hm",
      "provenance": []
    },
    "kernelspec": {
      "display_name": "Python 3",
      "name": "python3"
    },
    "language_info": {
      "name": "python"
    }
  },
  "nbformat": 4,
  "nbformat_minor": 0
}
